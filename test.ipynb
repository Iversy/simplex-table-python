{
 "cells": [
  {
   "cell_type": "code",
   "execution_count": 1,
   "id": "d8a63bfe",
   "metadata": {},
   "outputs": [],
   "source": [
    "import numpy as np\n",
    "from simplex import Simplex"
   ]
  },
  {
   "cell_type": "code",
   "execution_count": 2,
   "id": "d12e9f22",
   "metadata": {},
   "outputs": [
    {
     "data": {
      "text/plain": [
       "array([[  1,   2,   1,   0,   1,   0,   0,  18],\n",
       "       [  1,   1,   2,   1,   0,   1,   0,  30],\n",
       "       [  1,   3,   3,   2,   0,   0,   1,  40],\n",
       "       [-12,  -7, -18, -10,   0,   0,   0,   0]])"
      ]
     },
     "execution_count": 2,
     "metadata": {},
     "output_type": "execute_result"
    }
   ],
   "source": [
    "a = [\n",
    "    [1,2,1,0,1,0,0,18],\n",
    "    [1,1,2,1,0,1,0,30],\n",
    "    [1,3,3,2,0,0,1,40],\n",
    "    [-12,-7,-18,-10,0,0,0,0],\n",
    "]\n",
    "a = np.array(a)\n",
    "a"
   ]
  },
  {
   "cell_type": "code",
   "execution_count": 3,
   "id": "1b295cc1",
   "metadata": {},
   "outputs": [
    {
     "data": {
      "text/plain": [
       "np.int64(2)"
      ]
     },
     "execution_count": 3,
     "metadata": {},
     "output_type": "execute_result"
    }
   ],
   "source": [
    "np.argmin(a[-1])"
   ]
  },
  {
   "cell_type": "code",
   "execution_count": 4,
   "id": "93604294",
   "metadata": {},
   "outputs": [
    {
     "data": {
      "text/plain": [
       "4"
      ]
     },
     "execution_count": 4,
     "metadata": {},
     "output_type": "execute_result"
    }
   ],
   "source": [
    "a.shape[0]"
   ]
  },
  {
   "cell_type": "code",
   "execution_count": 5,
   "id": "7d0ba3b6",
   "metadata": {},
   "outputs": [
    {
     "name": "stdout",
     "output_type": "stream",
     "text": [
      "\t1\t2\t3\t4\t5\t6\t7\tB\n",
      "5\t1\t2\t1\t0\t1\t0\t0\t18\t0.0\n",
      "6\t1\t1\t2\t1\t0\t1\t0\t30\t0.0\n",
      "7\t1\t3\t3\t2\t0\t0\t1\t40\t0.0\n",
      "Z\t-12\t-7\t-18\t-10\t0\t0\t0\t0\t\n"
     ]
    }
   ],
   "source": [
    "model = Simplex(a)\n",
    "model.print()\n"
   ]
  },
  {
   "cell_type": "code",
   "execution_count": null,
   "id": "c0bc4c30",
   "metadata": {},
   "outputs": [
    {
     "name": "stdout",
     "output_type": "stream",
     "text": [
      "\t1\t2\t3\t4\t5\t6\t7\tB\n",
      "5\t1\t2\t1\t0\t1\t0\t0\t18\t18\n",
      "6\t1\t1\t2\t1\t0\t1\t0\t30\t15\n",
      "7\t1\t3\t3\t2\t0\t0\t1\t40\t40/3\n",
      "Z\t-12\t-7\t-18\t-10\t0\t0\t0\t0\t\n",
      "--------------------------------------------------\n",
      "\t1\t2\t3\t4\t5\t6\t7\tB\n",
      "5\t2/3\t1\t0\t-2/3\t1\t0\t-1/3\t14/3\t7\n",
      "6\t1/3\t-1\t0\t-1/3\t0\t1\t-2/3\t10/3\t10\n",
      "3\t1/3\t1\t1\t2/3\t0\t0\t1/3\t40/3\t40\n",
      "Z\t-6\t11\t0\t2\t0\t0\t6\t240\t\n",
      "--------------------------------------------------\n",
      "\t1\t2\t3\t4\t5\t6\t7\tB\n",
      "1\t1\t3/2\t0\t-1\t3/2\t0\t-1/2\t7\tinf\n",
      "6\t0\t-3/2\t0\t0\t-1/2\t1\t-1/2\t1\tinf\n",
      "3\t0\t1/2\t1\t1\t-1/2\t0\t1/2\t11\t11\n",
      "Z\t0\t20\t0\t-4\t9\t0\t3\t282\t\n",
      "--------------------------------------------------\n",
      "\t1\t2\t3\t4\t5\t6\t7\tB\n",
      "1\t1\t2\t1\t0\t1\t0\t0\t18\t18\n",
      "6\t0\t-3/2\t0\t0\t-1/2\t1\t-1/2\t1\tinf\n",
      "4\t0\t1/2\t1\t1\t-1/2\t0\t1/2\t11\tinf\n",
      "Z\t0\t22\t4\t0\t7\t0\t5\t326\t\n"
     ]
    }
   ],
   "source": [
    "while model.step():\n",
    "    print(\"-\"*200)"
   ]
  },
  {
   "cell_type": "code",
   "execution_count": 7,
   "id": "0f77323b",
   "metadata": {},
   "outputs": [
    {
     "name": "stdout",
     "output_type": "stream",
     "text": [
      "\t1\t2\t3\t4\t5\t6\t7\tB\n",
      "1\t1\t2\t1\t0\t1\t0\t0\t18\t18\n",
      "6\t0\t-3/2\t0\t0\t-1/2\t1\t-1/2\t1\tinf\n",
      "4\t0\t1/2\t1\t1\t-1/2\t0\t1/2\t11\tinf\n",
      "Z\t0\t22\t4\t0\t7\t0\t5\t326\t\n"
     ]
    }
   ],
   "source": [
    "model.print()"
   ]
  },
  {
   "cell_type": "code",
   "execution_count": 8,
   "id": "c50b7cb9",
   "metadata": {},
   "outputs": [
    {
     "name": "stdout",
     "output_type": "stream",
     "text": [
      "40/3\n"
     ]
    }
   ],
   "source": [
    "import fractions\n",
    "print(*np.array([fractions.Fraction(40,3)]))"
   ]
  },
  {
   "cell_type": "code",
   "execution_count": null,
   "id": "eb8f68dd",
   "metadata": {},
   "outputs": [],
   "source": []
  }
 ],
 "metadata": {
  "kernelspec": {
   "display_name": ".venv",
   "language": "python",
   "name": "python3"
  },
  "language_info": {
   "codemirror_mode": {
    "name": "ipython",
    "version": 3
   },
   "file_extension": ".py",
   "mimetype": "text/x-python",
   "name": "python",
   "nbconvert_exporter": "python",
   "pygments_lexer": "ipython3",
   "version": "3.12.9"
  }
 },
 "nbformat": 4,
 "nbformat_minor": 5
}
